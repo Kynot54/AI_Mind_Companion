{
 "cells": [
  {
   "cell_type": "code",
   "execution_count": 3,
   "metadata": {
    "id": "_oVGpkE56wxR"
   },
   "outputs": [],
   "source": [
    "from openai import OpenAI\n",
    "import os\n",
    "from dotenv import load_dotenv\n",
    "import time\n",
    "\n",
    "load_dotenv()\n",
    "client = OpenAI(api_key=os.getenv('OPENAI_API_KEY'))"
   ]
  },
  {
   "cell_type": "markdown",
   "metadata": {
    "id": "3e33ed25-abfa-41c6-9c50-31b9bc03c3b5"
   },
   "source": [
    "### helper functions"
   ]
  },
  {
   "cell_type": "code",
   "execution_count": 11,
   "metadata": {
    "colab": {
     "base_uri": "https://localhost:8080/"
    },
    "id": "q-kwnN2-9CCo",
    "outputId": "df50411b-1706-484a-c675-001875ba23aa"
   },
   "outputs": [
    {
     "name": "stdout",
     "output_type": "stream",
     "text": [
      "file-KyvdEYVoCflqKmw8ZslhuO2B\n",
      "file-q3nNG0F5FY4ZqdMYQyQjnAua\n"
     ]
    }
   ],
   "source": [
    "# create file (note: this will create a presisting file for your openai account, so be mindful about how many times you run this.\n",
    "# You can delete unnecessary files in the \"Files\" tab of your openai account.\n",
    "\n",
    "train_file = client.files.create(\n",
    "  file=open(\"train_dementia_data.jsonl\", \"rb\"),\n",
    "  purpose=\"fine-tune\"\n",
    ")\n",
    "validate_file = client.files.create(\n",
    "  file=open(\"validate_dementia_data.jsonl\", \"rb\"),\n",
    "  purpose=\"fine-tune\"\n",
    ")\n",
    "print(train_file.id)\n",
    "print(validate_file.id)"
   ]
  },
  {
   "cell_type": "code",
   "execution_count": null,
   "metadata": {
    "colab": {
     "base_uri": "https://localhost:8080/"
    },
    "id": "K5N5lCRd6-IM",
    "outputId": "41d068cc-b058-4c45-d3c4-24f3f6bb55d1"
   },
   "outputs": [],
   "source": [
    "assistant = client.fine_tuning.jobs.create(\n",
    "    training_file=train_file.id,\n",
    "    validation_file=validate_file.id,\n",
    "    model=\"gpt-3.5-turbo\",\n",
    ")\n",
    "print(assistant)"
   ]
  }
 ],
 "metadata": {
  "colab": {
   "collapsed_sections": [
    "Ptktm1Kd67kF"
   ],
   "provenance": []
  },
  "kernelspec": {
   "display_name": "Python 3 (ipykernel)",
   "language": "python",
   "name": "python3"
  },
  "language_info": {
   "codemirror_mode": {
    "name": "ipython",
    "version": 3
   },
   "file_extension": ".py",
   "mimetype": "text/x-python",
   "name": "python",
   "nbconvert_exporter": "python",
   "pygments_lexer": "ipython3",
   "version": "3.11.9"
  }
 },
 "nbformat": 4,
 "nbformat_minor": 4
}
